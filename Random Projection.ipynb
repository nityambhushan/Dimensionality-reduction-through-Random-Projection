{
 "cells": [
  {
   "cell_type": "code",
   "execution_count": 1,
   "metadata": {
    "executionInfo": {
     "elapsed": 2307,
     "status": "ok",
     "timestamp": 1671683749850,
     "user": {
      "displayName": "Minor Project",
      "userId": "02213789744950633610"
     },
     "user_tz": -330
    },
    "id": "I2dFTty6255P"
   },
   "outputs": [],
   "source": [
    "import numpy as np\n",
    "import pandas as pd\n",
    "from sklearn.decomposition import PCA\n",
    "from sklearn import random_projection\n",
    "from sklearn.model_selection import train_test_split\n",
    "from sklearn.preprocessing import StandardScaler\n",
    "from sklearn.metrics import confusion_matrix,accuracy_score\n",
    "import matplotlib.pyplot as plt\n",
    "import seaborn as sns\n",
    "from sklearn.ensemble import RandomForestClassifier"
   ]
  },
  {
   "cell_type": "markdown",
   "metadata": {
    "id": "nlQq0FND255Z"
   },
   "source": [
    "# loading minst data"
   ]
  },
  {
   "cell_type": "code",
   "execution_count": 2,
   "metadata": {
    "colab": {
     "base_uri": "https://localhost:8080/",
     "height": 346
    },
    "executionInfo": {
     "elapsed": 37,
     "status": "error",
     "timestamp": 1671683749853,
     "user": {
      "displayName": "Minor Project",
      "userId": "02213789744950633610"
     },
     "user_tz": -330
    },
    "id": "iGoi066-255Z",
    "outputId": "9aa931a3-9fa5-40f4-9b88-0778d2d4124b"
   },
   "outputs": [
    {
     "name": "stdout",
     "output_type": "stream",
     "text": [
      "<class 'pandas.core.frame.DataFrame'>\n",
      "<class 'pandas.core.frame.DataFrame'>\n"
     ]
    }
   ],
   "source": [
    "train=pd.read_csv(\"cars.csv\")\n",
    "print(type(train))"
   ]
  },
  {
   "cell_type": "code",
   "execution_count": 3,
   "metadata": {
    "executionInfo": {
     "elapsed": 35,
     "status": "aborted",
     "timestamp": 1671683749855,
     "user": {
      "displayName": "Minor Project",
      "userId": "02213789744950633610"
     },
     "user_tz": -330
    },
    "id": "5URKzBR6255a"
   },
   "outputs": [
    {
     "data": {
      "text/html": [
       "<div>\n",
       "<style scoped>\n",
       "    .dataframe tbody tr th:only-of-type {\n",
       "        vertical-align: middle;\n",
       "    }\n",
       "\n",
       "    .dataframe tbody tr th {\n",
       "        vertical-align: top;\n",
       "    }\n",
       "\n",
       "    .dataframe thead th {\n",
       "        text-align: right;\n",
       "    }\n",
       "</style>\n",
       "<table border=\"1\" class=\"dataframe\">\n",
       "  <thead>\n",
       "    <tr style=\"text-align: right;\">\n",
       "      <th></th>\n",
       "      <th>Sports</th>\n",
       "      <th>SUV</th>\n",
       "      <th>Wagon</th>\n",
       "      <th>Minivan</th>\n",
       "      <th>Pickup</th>\n",
       "      <th>AWD</th>\n",
       "      <th>RWD</th>\n",
       "      <th>Retail</th>\n",
       "      <th>Dealer</th>\n",
       "      <th>Engine</th>\n",
       "      <th>Cylinders</th>\n",
       "      <th>Horsepower</th>\n",
       "      <th>CityMPG</th>\n",
       "      <th>HighwayMPG</th>\n",
       "      <th>Weight</th>\n",
       "      <th>Wheelbase</th>\n",
       "      <th>Length</th>\n",
       "      <th>Width</th>\n",
       "    </tr>\n",
       "  </thead>\n",
       "  <tbody>\n",
       "    <tr>\n",
       "      <th>Acura 3.5 RL</th>\n",
       "      <td>0</td>\n",
       "      <td>0</td>\n",
       "      <td>0</td>\n",
       "      <td>0</td>\n",
       "      <td>0</td>\n",
       "      <td>0</td>\n",
       "      <td>0</td>\n",
       "      <td>43755</td>\n",
       "      <td>39014</td>\n",
       "      <td>3.5</td>\n",
       "      <td>6</td>\n",
       "      <td>225</td>\n",
       "      <td>18</td>\n",
       "      <td>24</td>\n",
       "      <td>3880</td>\n",
       "      <td>115</td>\n",
       "      <td>197</td>\n",
       "      <td>72</td>\n",
       "    </tr>\n",
       "    <tr>\n",
       "      <th>Acura 3.5 RL Navigation</th>\n",
       "      <td>0</td>\n",
       "      <td>0</td>\n",
       "      <td>0</td>\n",
       "      <td>0</td>\n",
       "      <td>0</td>\n",
       "      <td>0</td>\n",
       "      <td>0</td>\n",
       "      <td>46100</td>\n",
       "      <td>41100</td>\n",
       "      <td>3.5</td>\n",
       "      <td>6</td>\n",
       "      <td>225</td>\n",
       "      <td>18</td>\n",
       "      <td>24</td>\n",
       "      <td>3893</td>\n",
       "      <td>115</td>\n",
       "      <td>197</td>\n",
       "      <td>72</td>\n",
       "    </tr>\n",
       "    <tr>\n",
       "      <th>Acura MDX</th>\n",
       "      <td>0</td>\n",
       "      <td>1</td>\n",
       "      <td>0</td>\n",
       "      <td>0</td>\n",
       "      <td>0</td>\n",
       "      <td>1</td>\n",
       "      <td>0</td>\n",
       "      <td>36945</td>\n",
       "      <td>33337</td>\n",
       "      <td>3.5</td>\n",
       "      <td>6</td>\n",
       "      <td>265</td>\n",
       "      <td>17</td>\n",
       "      <td>23</td>\n",
       "      <td>4451</td>\n",
       "      <td>106</td>\n",
       "      <td>189</td>\n",
       "      <td>77</td>\n",
       "    </tr>\n",
       "    <tr>\n",
       "      <th>Acura NSX S</th>\n",
       "      <td>1</td>\n",
       "      <td>0</td>\n",
       "      <td>0</td>\n",
       "      <td>0</td>\n",
       "      <td>0</td>\n",
       "      <td>0</td>\n",
       "      <td>1</td>\n",
       "      <td>89765</td>\n",
       "      <td>79978</td>\n",
       "      <td>3.2</td>\n",
       "      <td>6</td>\n",
       "      <td>290</td>\n",
       "      <td>17</td>\n",
       "      <td>24</td>\n",
       "      <td>3153</td>\n",
       "      <td>100</td>\n",
       "      <td>174</td>\n",
       "      <td>71</td>\n",
       "    </tr>\n",
       "    <tr>\n",
       "      <th>Acura RSX</th>\n",
       "      <td>0</td>\n",
       "      <td>0</td>\n",
       "      <td>0</td>\n",
       "      <td>0</td>\n",
       "      <td>0</td>\n",
       "      <td>0</td>\n",
       "      <td>0</td>\n",
       "      <td>23820</td>\n",
       "      <td>21761</td>\n",
       "      <td>2.0</td>\n",
       "      <td>4</td>\n",
       "      <td>200</td>\n",
       "      <td>24</td>\n",
       "      <td>31</td>\n",
       "      <td>2778</td>\n",
       "      <td>101</td>\n",
       "      <td>172</td>\n",
       "      <td>68</td>\n",
       "    </tr>\n",
       "  </tbody>\n",
       "</table>\n",
       "</div>"
      ],
      "text/plain": [
       "                         Sports  SUV  Wagon  Minivan  Pickup  AWD  RWD  \\\n",
       "Acura 3.5 RL                  0    0      0        0       0    0    0   \n",
       "Acura 3.5 RL Navigation       0    0      0        0       0    0    0   \n",
       "Acura MDX                     0    1      0        0       0    1    0   \n",
       "Acura NSX S                   1    0      0        0       0    0    1   \n",
       "Acura RSX                     0    0      0        0       0    0    0   \n",
       "\n",
       "                         Retail  Dealer  Engine  Cylinders  Horsepower  \\\n",
       "Acura 3.5 RL              43755   39014     3.5          6         225   \n",
       "Acura 3.5 RL Navigation   46100   41100     3.5          6         225   \n",
       "Acura MDX                 36945   33337     3.5          6         265   \n",
       "Acura NSX S               89765   79978     3.2          6         290   \n",
       "Acura RSX                 23820   21761     2.0          4         200   \n",
       "\n",
       "                         CityMPG  HighwayMPG  Weight  Wheelbase  Length  Width  \n",
       "Acura 3.5 RL                  18          24    3880        115     197     72  \n",
       "Acura 3.5 RL Navigation       18          24    3893        115     197     72  \n",
       "Acura MDX                     17          23    4451        106     189     77  \n",
       "Acura NSX S                   17          24    3153        100     174     71  \n",
       "Acura RSX                     24          31    2778        101     172     68  "
      ]
     },
     "execution_count": 3,
     "metadata": {},
     "output_type": "execute_result"
    },
    {
     "data": {
      "text/html": [
       "<div>\n",
       "<style scoped>\n",
       "    .dataframe tbody tr th:only-of-type {\n",
       "        vertical-align: middle;\n",
       "    }\n",
       "\n",
       "    .dataframe tbody tr th {\n",
       "        vertical-align: top;\n",
       "    }\n",
       "\n",
       "    .dataframe thead th {\n",
       "        text-align: right;\n",
       "    }\n",
       "</style>\n",
       "<table border=\"1\" class=\"dataframe\">\n",
       "  <thead>\n",
       "    <tr style=\"text-align: right;\">\n",
       "      <th></th>\n",
       "      <th>Sports</th>\n",
       "      <th>SUV</th>\n",
       "      <th>Wagon</th>\n",
       "      <th>Minivan</th>\n",
       "      <th>Pickup</th>\n",
       "      <th>AWD</th>\n",
       "      <th>RWD</th>\n",
       "      <th>Retail</th>\n",
       "      <th>Dealer</th>\n",
       "      <th>Engine</th>\n",
       "      <th>Cylinders</th>\n",
       "      <th>Horsepower</th>\n",
       "      <th>CityMPG</th>\n",
       "      <th>HighwayMPG</th>\n",
       "      <th>Weight</th>\n",
       "      <th>Wheelbase</th>\n",
       "      <th>Length</th>\n",
       "      <th>Width</th>\n",
       "    </tr>\n",
       "  </thead>\n",
       "  <tbody>\n",
       "    <tr>\n",
       "      <th>Acura 3.5 RL</th>\n",
       "      <td>0</td>\n",
       "      <td>0</td>\n",
       "      <td>0</td>\n",
       "      <td>0</td>\n",
       "      <td>0</td>\n",
       "      <td>0</td>\n",
       "      <td>0</td>\n",
       "      <td>43755</td>\n",
       "      <td>39014</td>\n",
       "      <td>3.5</td>\n",
       "      <td>6</td>\n",
       "      <td>225</td>\n",
       "      <td>18</td>\n",
       "      <td>24</td>\n",
       "      <td>3880</td>\n",
       "      <td>115</td>\n",
       "      <td>197</td>\n",
       "      <td>72</td>\n",
       "    </tr>\n",
       "    <tr>\n",
       "      <th>Acura 3.5 RL Navigation</th>\n",
       "      <td>0</td>\n",
       "      <td>0</td>\n",
       "      <td>0</td>\n",
       "      <td>0</td>\n",
       "      <td>0</td>\n",
       "      <td>0</td>\n",
       "      <td>0</td>\n",
       "      <td>46100</td>\n",
       "      <td>41100</td>\n",
       "      <td>3.5</td>\n",
       "      <td>6</td>\n",
       "      <td>225</td>\n",
       "      <td>18</td>\n",
       "      <td>24</td>\n",
       "      <td>3893</td>\n",
       "      <td>115</td>\n",
       "      <td>197</td>\n",
       "      <td>72</td>\n",
       "    </tr>\n",
       "    <tr>\n",
       "      <th>Acura MDX</th>\n",
       "      <td>0</td>\n",
       "      <td>1</td>\n",
       "      <td>0</td>\n",
       "      <td>0</td>\n",
       "      <td>0</td>\n",
       "      <td>1</td>\n",
       "      <td>0</td>\n",
       "      <td>36945</td>\n",
       "      <td>33337</td>\n",
       "      <td>3.5</td>\n",
       "      <td>6</td>\n",
       "      <td>265</td>\n",
       "      <td>17</td>\n",
       "      <td>23</td>\n",
       "      <td>4451</td>\n",
       "      <td>106</td>\n",
       "      <td>189</td>\n",
       "      <td>77</td>\n",
       "    </tr>\n",
       "    <tr>\n",
       "      <th>Acura NSX S</th>\n",
       "      <td>1</td>\n",
       "      <td>0</td>\n",
       "      <td>0</td>\n",
       "      <td>0</td>\n",
       "      <td>0</td>\n",
       "      <td>0</td>\n",
       "      <td>1</td>\n",
       "      <td>89765</td>\n",
       "      <td>79978</td>\n",
       "      <td>3.2</td>\n",
       "      <td>6</td>\n",
       "      <td>290</td>\n",
       "      <td>17</td>\n",
       "      <td>24</td>\n",
       "      <td>3153</td>\n",
       "      <td>100</td>\n",
       "      <td>174</td>\n",
       "      <td>71</td>\n",
       "    </tr>\n",
       "    <tr>\n",
       "      <th>Acura RSX</th>\n",
       "      <td>0</td>\n",
       "      <td>0</td>\n",
       "      <td>0</td>\n",
       "      <td>0</td>\n",
       "      <td>0</td>\n",
       "      <td>0</td>\n",
       "      <td>0</td>\n",
       "      <td>23820</td>\n",
       "      <td>21761</td>\n",
       "      <td>2.0</td>\n",
       "      <td>4</td>\n",
       "      <td>200</td>\n",
       "      <td>24</td>\n",
       "      <td>31</td>\n",
       "      <td>2778</td>\n",
       "      <td>101</td>\n",
       "      <td>172</td>\n",
       "      <td>68</td>\n",
       "    </tr>\n",
       "  </tbody>\n",
       "</table>\n",
       "</div>"
      ],
      "text/plain": [
       "                         Sports  SUV  Wagon  Minivan  Pickup  AWD  RWD  \\\n",
       "Acura 3.5 RL                  0    0      0        0       0    0    0   \n",
       "Acura 3.5 RL Navigation       0    0      0        0       0    0    0   \n",
       "Acura MDX                     0    1      0        0       0    1    0   \n",
       "Acura NSX S                   1    0      0        0       0    0    1   \n",
       "Acura RSX                     0    0      0        0       0    0    0   \n",
       "\n",
       "                         Retail  Dealer  Engine  Cylinders  Horsepower  \\\n",
       "Acura 3.5 RL              43755   39014     3.5          6         225   \n",
       "Acura 3.5 RL Navigation   46100   41100     3.5          6         225   \n",
       "Acura MDX                 36945   33337     3.5          6         265   \n",
       "Acura NSX S               89765   79978     3.2          6         290   \n",
       "Acura RSX                 23820   21761     2.0          4         200   \n",
       "\n",
       "                         CityMPG  HighwayMPG  Weight  Wheelbase  Length  Width  \n",
       "Acura 3.5 RL                  18          24    3880        115     197     72  \n",
       "Acura 3.5 RL Navigation       18          24    3893        115     197     72  \n",
       "Acura MDX                     17          23    4451        106     189     77  \n",
       "Acura NSX S                   17          24    3153        100     174     71  \n",
       "Acura RSX                     24          31    2778        101     172     68  "
      ]
     },
     "execution_count": 3,
     "metadata": {},
     "output_type": "execute_result"
    }
   ],
   "source": [
    "train.head()"
   ]
  },
  {
   "cell_type": "code",
   "execution_count": 4,
   "metadata": {
    "executionInfo": {
     "elapsed": 37,
     "status": "aborted",
     "timestamp": 1671683749857,
     "user": {
      "displayName": "Minor Project",
      "userId": "02213789744950633610"
     },
     "user_tz": -330
    },
    "id": "xUcYoB9n255a",
    "scrolled": true
   },
   "outputs": [
    {
     "data": {
      "text/plain": [
       "(387, 18)"
      ]
     },
     "execution_count": 4,
     "metadata": {},
     "output_type": "execute_result"
    },
    {
     "data": {
      "text/plain": [
       "(387, 18)"
      ]
     },
     "execution_count": 4,
     "metadata": {},
     "output_type": "execute_result"
    }
   ],
   "source": [
    "train.shape"
   ]
  },
  {
   "cell_type": "code",
   "execution_count": 5,
   "metadata": {
    "executionInfo": {
     "elapsed": 38,
     "status": "aborted",
     "timestamp": 1671683749858,
     "user": {
      "displayName": "Minor Project",
      "userId": "02213789744950633610"
     },
     "user_tz": -330
    },
    "id": "5uq8B2pS255a"
   },
   "outputs": [
    {
     "data": {
      "text/html": [
       "<div>\n",
       "<style scoped>\n",
       "    .dataframe tbody tr th:only-of-type {\n",
       "        vertical-align: middle;\n",
       "    }\n",
       "\n",
       "    .dataframe tbody tr th {\n",
       "        vertical-align: top;\n",
       "    }\n",
       "\n",
       "    .dataframe thead th {\n",
       "        text-align: right;\n",
       "    }\n",
       "</style>\n",
       "<table border=\"1\" class=\"dataframe\">\n",
       "  <thead>\n",
       "    <tr style=\"text-align: right;\">\n",
       "      <th></th>\n",
       "      <th>Sports</th>\n",
       "      <th>SUV</th>\n",
       "      <th>Wagon</th>\n",
       "      <th>Minivan</th>\n",
       "      <th>Pickup</th>\n",
       "      <th>AWD</th>\n",
       "      <th>RWD</th>\n",
       "      <th>Retail</th>\n",
       "      <th>Dealer</th>\n",
       "      <th>Engine</th>\n",
       "      <th>Cylinders</th>\n",
       "      <th>Horsepower</th>\n",
       "      <th>CityMPG</th>\n",
       "      <th>HighwayMPG</th>\n",
       "      <th>Weight</th>\n",
       "      <th>Wheelbase</th>\n",
       "      <th>Length</th>\n",
       "      <th>Width</th>\n",
       "    </tr>\n",
       "  </thead>\n",
       "  <tbody>\n",
       "    <tr>\n",
       "      <th>count</th>\n",
       "      <td>387.000000</td>\n",
       "      <td>387.000000</td>\n",
       "      <td>387.000000</td>\n",
       "      <td>387.000000</td>\n",
       "      <td>387.0</td>\n",
       "      <td>387.000000</td>\n",
       "      <td>387.000000</td>\n",
       "      <td>387.000000</td>\n",
       "      <td>387.000000</td>\n",
       "      <td>387.000000</td>\n",
       "      <td>387.000000</td>\n",
       "      <td>387.000000</td>\n",
       "      <td>387.000000</td>\n",
       "      <td>387.000000</td>\n",
       "      <td>387.000000</td>\n",
       "      <td>387.000000</td>\n",
       "      <td>387.000000</td>\n",
       "      <td>387.000000</td>\n",
       "    </tr>\n",
       "    <tr>\n",
       "      <th>mean</th>\n",
       "      <td>0.116279</td>\n",
       "      <td>0.152455</td>\n",
       "      <td>0.072351</td>\n",
       "      <td>0.054264</td>\n",
       "      <td>0.0</td>\n",
       "      <td>0.201550</td>\n",
       "      <td>0.242894</td>\n",
       "      <td>33231.180879</td>\n",
       "      <td>30440.653747</td>\n",
       "      <td>3.127390</td>\n",
       "      <td>5.757106</td>\n",
       "      <td>214.444444</td>\n",
       "      <td>20.312661</td>\n",
       "      <td>27.263566</td>\n",
       "      <td>3532.457364</td>\n",
       "      <td>107.211886</td>\n",
       "      <td>184.961240</td>\n",
       "      <td>71.276486</td>\n",
       "    </tr>\n",
       "    <tr>\n",
       "      <th>std</th>\n",
       "      <td>0.320974</td>\n",
       "      <td>0.359926</td>\n",
       "      <td>0.259404</td>\n",
       "      <td>0.226830</td>\n",
       "      <td>0.0</td>\n",
       "      <td>0.401677</td>\n",
       "      <td>0.429387</td>\n",
       "      <td>19724.634576</td>\n",
       "      <td>17901.179282</td>\n",
       "      <td>1.014314</td>\n",
       "      <td>1.490182</td>\n",
       "      <td>70.262822</td>\n",
       "      <td>5.262333</td>\n",
       "      <td>5.636005</td>\n",
       "      <td>706.003622</td>\n",
       "      <td>7.086553</td>\n",
       "      <td>13.237999</td>\n",
       "      <td>3.368329</td>\n",
       "    </tr>\n",
       "    <tr>\n",
       "      <th>min</th>\n",
       "      <td>0.000000</td>\n",
       "      <td>0.000000</td>\n",
       "      <td>0.000000</td>\n",
       "      <td>0.000000</td>\n",
       "      <td>0.0</td>\n",
       "      <td>0.000000</td>\n",
       "      <td>0.000000</td>\n",
       "      <td>10280.000000</td>\n",
       "      <td>9875.000000</td>\n",
       "      <td>1.400000</td>\n",
       "      <td>3.000000</td>\n",
       "      <td>73.000000</td>\n",
       "      <td>10.000000</td>\n",
       "      <td>12.000000</td>\n",
       "      <td>1850.000000</td>\n",
       "      <td>89.000000</td>\n",
       "      <td>143.000000</td>\n",
       "      <td>64.000000</td>\n",
       "    </tr>\n",
       "    <tr>\n",
       "      <th>25%</th>\n",
       "      <td>0.000000</td>\n",
       "      <td>0.000000</td>\n",
       "      <td>0.000000</td>\n",
       "      <td>0.000000</td>\n",
       "      <td>0.0</td>\n",
       "      <td>0.000000</td>\n",
       "      <td>0.000000</td>\n",
       "      <td>20997.000000</td>\n",
       "      <td>19575.000000</td>\n",
       "      <td>2.300000</td>\n",
       "      <td>4.000000</td>\n",
       "      <td>165.000000</td>\n",
       "      <td>18.000000</td>\n",
       "      <td>24.000000</td>\n",
       "      <td>3107.000000</td>\n",
       "      <td>103.000000</td>\n",
       "      <td>177.000000</td>\n",
       "      <td>69.000000</td>\n",
       "    </tr>\n",
       "    <tr>\n",
       "      <th>50%</th>\n",
       "      <td>0.000000</td>\n",
       "      <td>0.000000</td>\n",
       "      <td>0.000000</td>\n",
       "      <td>0.000000</td>\n",
       "      <td>0.0</td>\n",
       "      <td>0.000000</td>\n",
       "      <td>0.000000</td>\n",
       "      <td>28495.000000</td>\n",
       "      <td>26155.000000</td>\n",
       "      <td>3.000000</td>\n",
       "      <td>6.000000</td>\n",
       "      <td>210.000000</td>\n",
       "      <td>19.000000</td>\n",
       "      <td>27.000000</td>\n",
       "      <td>3469.000000</td>\n",
       "      <td>107.000000</td>\n",
       "      <td>186.000000</td>\n",
       "      <td>71.000000</td>\n",
       "    </tr>\n",
       "    <tr>\n",
       "      <th>75%</th>\n",
       "      <td>0.000000</td>\n",
       "      <td>0.000000</td>\n",
       "      <td>0.000000</td>\n",
       "      <td>0.000000</td>\n",
       "      <td>0.0</td>\n",
       "      <td>0.000000</td>\n",
       "      <td>0.000000</td>\n",
       "      <td>39552.500000</td>\n",
       "      <td>36124.000000</td>\n",
       "      <td>3.800000</td>\n",
       "      <td>6.000000</td>\n",
       "      <td>250.000000</td>\n",
       "      <td>21.500000</td>\n",
       "      <td>30.000000</td>\n",
       "      <td>3922.000000</td>\n",
       "      <td>112.000000</td>\n",
       "      <td>193.000000</td>\n",
       "      <td>73.000000</td>\n",
       "    </tr>\n",
       "    <tr>\n",
       "      <th>max</th>\n",
       "      <td>1.000000</td>\n",
       "      <td>1.000000</td>\n",
       "      <td>1.000000</td>\n",
       "      <td>1.000000</td>\n",
       "      <td>0.0</td>\n",
       "      <td>1.000000</td>\n",
       "      <td>1.000000</td>\n",
       "      <td>192465.000000</td>\n",
       "      <td>173560.000000</td>\n",
       "      <td>6.000000</td>\n",
       "      <td>12.000000</td>\n",
       "      <td>493.000000</td>\n",
       "      <td>60.000000</td>\n",
       "      <td>66.000000</td>\n",
       "      <td>6400.000000</td>\n",
       "      <td>130.000000</td>\n",
       "      <td>221.000000</td>\n",
       "      <td>81.000000</td>\n",
       "    </tr>\n",
       "  </tbody>\n",
       "</table>\n",
       "</div>"
      ],
      "text/plain": [
       "           Sports         SUV       Wagon     Minivan  Pickup         AWD  \\\n",
       "count  387.000000  387.000000  387.000000  387.000000   387.0  387.000000   \n",
       "mean     0.116279    0.152455    0.072351    0.054264     0.0    0.201550   \n",
       "std      0.320974    0.359926    0.259404    0.226830     0.0    0.401677   \n",
       "min      0.000000    0.000000    0.000000    0.000000     0.0    0.000000   \n",
       "25%      0.000000    0.000000    0.000000    0.000000     0.0    0.000000   \n",
       "50%      0.000000    0.000000    0.000000    0.000000     0.0    0.000000   \n",
       "75%      0.000000    0.000000    0.000000    0.000000     0.0    0.000000   \n",
       "max      1.000000    1.000000    1.000000    1.000000     0.0    1.000000   \n",
       "\n",
       "              RWD         Retail         Dealer      Engine   Cylinders  \\\n",
       "count  387.000000     387.000000     387.000000  387.000000  387.000000   \n",
       "mean     0.242894   33231.180879   30440.653747    3.127390    5.757106   \n",
       "std      0.429387   19724.634576   17901.179282    1.014314    1.490182   \n",
       "min      0.000000   10280.000000    9875.000000    1.400000    3.000000   \n",
       "25%      0.000000   20997.000000   19575.000000    2.300000    4.000000   \n",
       "50%      0.000000   28495.000000   26155.000000    3.000000    6.000000   \n",
       "75%      0.000000   39552.500000   36124.000000    3.800000    6.000000   \n",
       "max      1.000000  192465.000000  173560.000000    6.000000   12.000000   \n",
       "\n",
       "       Horsepower     CityMPG  HighwayMPG       Weight   Wheelbase  \\\n",
       "count  387.000000  387.000000  387.000000   387.000000  387.000000   \n",
       "mean   214.444444   20.312661   27.263566  3532.457364  107.211886   \n",
       "std     70.262822    5.262333    5.636005   706.003622    7.086553   \n",
       "min     73.000000   10.000000   12.000000  1850.000000   89.000000   \n",
       "25%    165.000000   18.000000   24.000000  3107.000000  103.000000   \n",
       "50%    210.000000   19.000000   27.000000  3469.000000  107.000000   \n",
       "75%    250.000000   21.500000   30.000000  3922.000000  112.000000   \n",
       "max    493.000000   60.000000   66.000000  6400.000000  130.000000   \n",
       "\n",
       "           Length       Width  \n",
       "count  387.000000  387.000000  \n",
       "mean   184.961240   71.276486  \n",
       "std     13.237999    3.368329  \n",
       "min    143.000000   64.000000  \n",
       "25%    177.000000   69.000000  \n",
       "50%    186.000000   71.000000  \n",
       "75%    193.000000   73.000000  \n",
       "max    221.000000   81.000000  "
      ]
     },
     "execution_count": 5,
     "metadata": {},
     "output_type": "execute_result"
    },
    {
     "data": {
      "text/html": [
       "<div>\n",
       "<style scoped>\n",
       "    .dataframe tbody tr th:only-of-type {\n",
       "        vertical-align: middle;\n",
       "    }\n",
       "\n",
       "    .dataframe tbody tr th {\n",
       "        vertical-align: top;\n",
       "    }\n",
       "\n",
       "    .dataframe thead th {\n",
       "        text-align: right;\n",
       "    }\n",
       "</style>\n",
       "<table border=\"1\" class=\"dataframe\">\n",
       "  <thead>\n",
       "    <tr style=\"text-align: right;\">\n",
       "      <th></th>\n",
       "      <th>Sports</th>\n",
       "      <th>SUV</th>\n",
       "      <th>Wagon</th>\n",
       "      <th>Minivan</th>\n",
       "      <th>Pickup</th>\n",
       "      <th>AWD</th>\n",
       "      <th>RWD</th>\n",
       "      <th>Retail</th>\n",
       "      <th>Dealer</th>\n",
       "      <th>Engine</th>\n",
       "      <th>Cylinders</th>\n",
       "      <th>Horsepower</th>\n",
       "      <th>CityMPG</th>\n",
       "      <th>HighwayMPG</th>\n",
       "      <th>Weight</th>\n",
       "      <th>Wheelbase</th>\n",
       "      <th>Length</th>\n",
       "      <th>Width</th>\n",
       "    </tr>\n",
       "  </thead>\n",
       "  <tbody>\n",
       "    <tr>\n",
       "      <th>count</th>\n",
       "      <td>387.000000</td>\n",
       "      <td>387.000000</td>\n",
       "      <td>387.000000</td>\n",
       "      <td>387.000000</td>\n",
       "      <td>387.0</td>\n",
       "      <td>387.000000</td>\n",
       "      <td>387.000000</td>\n",
       "      <td>387.000000</td>\n",
       "      <td>387.000000</td>\n",
       "      <td>387.000000</td>\n",
       "      <td>387.000000</td>\n",
       "      <td>387.000000</td>\n",
       "      <td>387.000000</td>\n",
       "      <td>387.000000</td>\n",
       "      <td>387.000000</td>\n",
       "      <td>387.000000</td>\n",
       "      <td>387.000000</td>\n",
       "      <td>387.000000</td>\n",
       "    </tr>\n",
       "    <tr>\n",
       "      <th>mean</th>\n",
       "      <td>0.116279</td>\n",
       "      <td>0.152455</td>\n",
       "      <td>0.072351</td>\n",
       "      <td>0.054264</td>\n",
       "      <td>0.0</td>\n",
       "      <td>0.201550</td>\n",
       "      <td>0.242894</td>\n",
       "      <td>33231.180879</td>\n",
       "      <td>30440.653747</td>\n",
       "      <td>3.127390</td>\n",
       "      <td>5.757106</td>\n",
       "      <td>214.444444</td>\n",
       "      <td>20.312661</td>\n",
       "      <td>27.263566</td>\n",
       "      <td>3532.457364</td>\n",
       "      <td>107.211886</td>\n",
       "      <td>184.961240</td>\n",
       "      <td>71.276486</td>\n",
       "    </tr>\n",
       "    <tr>\n",
       "      <th>std</th>\n",
       "      <td>0.320974</td>\n",
       "      <td>0.359926</td>\n",
       "      <td>0.259404</td>\n",
       "      <td>0.226830</td>\n",
       "      <td>0.0</td>\n",
       "      <td>0.401677</td>\n",
       "      <td>0.429387</td>\n",
       "      <td>19724.634576</td>\n",
       "      <td>17901.179282</td>\n",
       "      <td>1.014314</td>\n",
       "      <td>1.490182</td>\n",
       "      <td>70.262822</td>\n",
       "      <td>5.262333</td>\n",
       "      <td>5.636005</td>\n",
       "      <td>706.003622</td>\n",
       "      <td>7.086553</td>\n",
       "      <td>13.237999</td>\n",
       "      <td>3.368329</td>\n",
       "    </tr>\n",
       "    <tr>\n",
       "      <th>min</th>\n",
       "      <td>0.000000</td>\n",
       "      <td>0.000000</td>\n",
       "      <td>0.000000</td>\n",
       "      <td>0.000000</td>\n",
       "      <td>0.0</td>\n",
       "      <td>0.000000</td>\n",
       "      <td>0.000000</td>\n",
       "      <td>10280.000000</td>\n",
       "      <td>9875.000000</td>\n",
       "      <td>1.400000</td>\n",
       "      <td>3.000000</td>\n",
       "      <td>73.000000</td>\n",
       "      <td>10.000000</td>\n",
       "      <td>12.000000</td>\n",
       "      <td>1850.000000</td>\n",
       "      <td>89.000000</td>\n",
       "      <td>143.000000</td>\n",
       "      <td>64.000000</td>\n",
       "    </tr>\n",
       "    <tr>\n",
       "      <th>25%</th>\n",
       "      <td>0.000000</td>\n",
       "      <td>0.000000</td>\n",
       "      <td>0.000000</td>\n",
       "      <td>0.000000</td>\n",
       "      <td>0.0</td>\n",
       "      <td>0.000000</td>\n",
       "      <td>0.000000</td>\n",
       "      <td>20997.000000</td>\n",
       "      <td>19575.000000</td>\n",
       "      <td>2.300000</td>\n",
       "      <td>4.000000</td>\n",
       "      <td>165.000000</td>\n",
       "      <td>18.000000</td>\n",
       "      <td>24.000000</td>\n",
       "      <td>3107.000000</td>\n",
       "      <td>103.000000</td>\n",
       "      <td>177.000000</td>\n",
       "      <td>69.000000</td>\n",
       "    </tr>\n",
       "    <tr>\n",
       "      <th>50%</th>\n",
       "      <td>0.000000</td>\n",
       "      <td>0.000000</td>\n",
       "      <td>0.000000</td>\n",
       "      <td>0.000000</td>\n",
       "      <td>0.0</td>\n",
       "      <td>0.000000</td>\n",
       "      <td>0.000000</td>\n",
       "      <td>28495.000000</td>\n",
       "      <td>26155.000000</td>\n",
       "      <td>3.000000</td>\n",
       "      <td>6.000000</td>\n",
       "      <td>210.000000</td>\n",
       "      <td>19.000000</td>\n",
       "      <td>27.000000</td>\n",
       "      <td>3469.000000</td>\n",
       "      <td>107.000000</td>\n",
       "      <td>186.000000</td>\n",
       "      <td>71.000000</td>\n",
       "    </tr>\n",
       "    <tr>\n",
       "      <th>75%</th>\n",
       "      <td>0.000000</td>\n",
       "      <td>0.000000</td>\n",
       "      <td>0.000000</td>\n",
       "      <td>0.000000</td>\n",
       "      <td>0.0</td>\n",
       "      <td>0.000000</td>\n",
       "      <td>0.000000</td>\n",
       "      <td>39552.500000</td>\n",
       "      <td>36124.000000</td>\n",
       "      <td>3.800000</td>\n",
       "      <td>6.000000</td>\n",
       "      <td>250.000000</td>\n",
       "      <td>21.500000</td>\n",
       "      <td>30.000000</td>\n",
       "      <td>3922.000000</td>\n",
       "      <td>112.000000</td>\n",
       "      <td>193.000000</td>\n",
       "      <td>73.000000</td>\n",
       "    </tr>\n",
       "    <tr>\n",
       "      <th>max</th>\n",
       "      <td>1.000000</td>\n",
       "      <td>1.000000</td>\n",
       "      <td>1.000000</td>\n",
       "      <td>1.000000</td>\n",
       "      <td>0.0</td>\n",
       "      <td>1.000000</td>\n",
       "      <td>1.000000</td>\n",
       "      <td>192465.000000</td>\n",
       "      <td>173560.000000</td>\n",
       "      <td>6.000000</td>\n",
       "      <td>12.000000</td>\n",
       "      <td>493.000000</td>\n",
       "      <td>60.000000</td>\n",
       "      <td>66.000000</td>\n",
       "      <td>6400.000000</td>\n",
       "      <td>130.000000</td>\n",
       "      <td>221.000000</td>\n",
       "      <td>81.000000</td>\n",
       "    </tr>\n",
       "  </tbody>\n",
       "</table>\n",
       "</div>"
      ],
      "text/plain": [
       "           Sports         SUV       Wagon     Minivan  Pickup         AWD  \\\n",
       "count  387.000000  387.000000  387.000000  387.000000   387.0  387.000000   \n",
       "mean     0.116279    0.152455    0.072351    0.054264     0.0    0.201550   \n",
       "std      0.320974    0.359926    0.259404    0.226830     0.0    0.401677   \n",
       "min      0.000000    0.000000    0.000000    0.000000     0.0    0.000000   \n",
       "25%      0.000000    0.000000    0.000000    0.000000     0.0    0.000000   \n",
       "50%      0.000000    0.000000    0.000000    0.000000     0.0    0.000000   \n",
       "75%      0.000000    0.000000    0.000000    0.000000     0.0    0.000000   \n",
       "max      1.000000    1.000000    1.000000    1.000000     0.0    1.000000   \n",
       "\n",
       "              RWD         Retail         Dealer      Engine   Cylinders  \\\n",
       "count  387.000000     387.000000     387.000000  387.000000  387.000000   \n",
       "mean     0.242894   33231.180879   30440.653747    3.127390    5.757106   \n",
       "std      0.429387   19724.634576   17901.179282    1.014314    1.490182   \n",
       "min      0.000000   10280.000000    9875.000000    1.400000    3.000000   \n",
       "25%      0.000000   20997.000000   19575.000000    2.300000    4.000000   \n",
       "50%      0.000000   28495.000000   26155.000000    3.000000    6.000000   \n",
       "75%      0.000000   39552.500000   36124.000000    3.800000    6.000000   \n",
       "max      1.000000  192465.000000  173560.000000    6.000000   12.000000   \n",
       "\n",
       "       Horsepower     CityMPG  HighwayMPG       Weight   Wheelbase  \\\n",
       "count  387.000000  387.000000  387.000000   387.000000  387.000000   \n",
       "mean   214.444444   20.312661   27.263566  3532.457364  107.211886   \n",
       "std     70.262822    5.262333    5.636005   706.003622    7.086553   \n",
       "min     73.000000   10.000000   12.000000  1850.000000   89.000000   \n",
       "25%    165.000000   18.000000   24.000000  3107.000000  103.000000   \n",
       "50%    210.000000   19.000000   27.000000  3469.000000  107.000000   \n",
       "75%    250.000000   21.500000   30.000000  3922.000000  112.000000   \n",
       "max    493.000000   60.000000   66.000000  6400.000000  130.000000   \n",
       "\n",
       "           Length       Width  \n",
       "count  387.000000  387.000000  \n",
       "mean   184.961240   71.276486  \n",
       "std     13.237999    3.368329  \n",
       "min    143.000000   64.000000  \n",
       "25%    177.000000   69.000000  \n",
       "50%    186.000000   71.000000  \n",
       "75%    193.000000   73.000000  \n",
       "max    221.000000   81.000000  "
      ]
     },
     "execution_count": 5,
     "metadata": {},
     "output_type": "execute_result"
    }
   ],
   "source": [
    "train.describe()"
   ]
  },
  {
   "cell_type": "code",
   "execution_count": 6,
   "metadata": {
    "executionInfo": {
     "elapsed": 38,
     "status": "aborted",
     "timestamp": 1671683749859,
     "user": {
      "displayName": "Minor Project",
      "userId": "02213789744950633610"
     },
     "user_tz": -330
    },
    "id": "IZd-OA-d255b"
   },
   "outputs": [
    {
     "data": {
      "text/plain": [
       "Sports        0\n",
       "SUV           0\n",
       "Wagon         0\n",
       "Minivan       0\n",
       "Pickup        0\n",
       "AWD           0\n",
       "RWD           0\n",
       "Retail        0\n",
       "Dealer        0\n",
       "Engine        0\n",
       "Cylinders     0\n",
       "Horsepower    0\n",
       "CityMPG       0\n",
       "HighwayMPG    0\n",
       "Weight        0\n",
       "Wheelbase     0\n",
       "Length        0\n",
       "Width         0\n",
       "dtype: int64"
      ]
     },
     "execution_count": 6,
     "metadata": {},
     "output_type": "execute_result"
    },
    {
     "data": {
      "text/plain": [
       "Sports        0\n",
       "SUV           0\n",
       "Wagon         0\n",
       "Minivan       0\n",
       "Pickup        0\n",
       "AWD           0\n",
       "RWD           0\n",
       "Retail        0\n",
       "Dealer        0\n",
       "Engine        0\n",
       "Cylinders     0\n",
       "Horsepower    0\n",
       "CityMPG       0\n",
       "HighwayMPG    0\n",
       "Weight        0\n",
       "Wheelbase     0\n",
       "Length        0\n",
       "Width         0\n",
       "dtype: int64"
      ]
     },
     "execution_count": 6,
     "metadata": {},
     "output_type": "execute_result"
    }
   ],
   "source": [
    "train.isnull().sum()"
   ]
  },
  {
   "cell_type": "code",
   "execution_count": 7,
   "metadata": {
    "executionInfo": {
     "elapsed": 39,
     "status": "aborted",
     "timestamp": 1671683749860,
     "user": {
      "displayName": "Minor Project",
      "userId": "02213789744950633610"
     },
     "user_tz": -330
    },
    "id": "5gY-Ko_7255b"
   },
   "outputs": [],
   "source": [
    "train.fillna(0,inplace=True)"
   ]
  },
  {
   "cell_type": "code",
   "execution_count": 8,
   "metadata": {
    "executionInfo": {
     "elapsed": 39,
     "status": "aborted",
     "timestamp": 1671683749860,
     "user": {
      "displayName": "Minor Project",
      "userId": "02213789744950633610"
     },
     "user_tz": -330
    },
    "id": "7GeFWIbt255b"
   },
   "outputs": [
    {
     "name": "stdout",
     "output_type": "stream",
     "text": [
      "Acura 3.5 RL               0\n",
      "Acura 3.5 RL Navigation    0\n",
      "Acura MDX                  0\n",
      "Acura NSX S                1\n",
      "Acura RSX                  0\n",
      "                          ..\n",
      "Volvo S80 2.9              0\n",
      "Volvo S80 T6               0\n",
      "Volvo V40                  0\n",
      "Volvo XC70                 0\n",
      "Volvo XC90 T6              0\n",
      "Name: Sports, Length: 387, dtype: int64\n",
      "Acura 3.5 RL               0\n",
      "Acura 3.5 RL Navigation    0\n",
      "Acura MDX                  0\n",
      "Acura NSX S                1\n",
      "Acura RSX                  0\n",
      "                          ..\n",
      "Volvo S80 2.9              0\n",
      "Volvo S80 T6               0\n",
      "Volvo V40                  0\n",
      "Volvo XC70                 0\n",
      "Volvo XC90 T6              0\n",
      "Name: Sports, Length: 387, dtype: int64\n"
     ]
    }
   ],
   "source": [
    "y = train['Sports']\n",
    "print(y)\n",
    "x = train.drop(\"Sports\",axis=1)"
   ]
  },
  {
   "cell_type": "code",
   "execution_count": 9,
   "metadata": {
    "executionInfo": {
     "elapsed": 40,
     "status": "aborted",
     "timestamp": 1671683749861,
     "user": {
      "displayName": "Minor Project",
      "userId": "02213789744950633610"
     },
     "user_tz": -330
    },
    "id": "W9XDWals255b"
   },
   "outputs": [
    {
     "data": {
      "text/plain": [
       "numpy.ndarray"
      ]
     },
     "execution_count": 9,
     "metadata": {},
     "output_type": "execute_result"
    },
    {
     "data": {
      "text/plain": [
       "numpy.ndarray"
      ]
     },
     "execution_count": 9,
     "metadata": {},
     "output_type": "execute_result"
    }
   ],
   "source": [
    "x.iloc[0].values.reshape(17,1)\n",
    "type(x.iloc[0].values.reshape(17,1)\n",
    ")"
   ]
  },
  {
   "cell_type": "code",
   "execution_count": 10,
   "metadata": {
    "executionInfo": {
     "elapsed": 40,
     "status": "aborted",
     "timestamp": 1671683749862,
     "user": {
      "displayName": "Minor Project",
      "userId": "02213789744950633610"
     },
     "user_tz": -330
    },
    "id": "5TmpCQSx255b"
   },
   "outputs": [],
   "source": [
    "def show_images(num_images):\n",
    "    for n in range(0,num_images):\n",
    "        plt.subplot(5,5,n+1)\n",
    "        print(type( x.iloc[n].values.reshape(17,1)))\n",
    "#         plt.imshow(x.iloc[n].values.reshape(28,28))#cmap means how the imgae to be presented\n",
    "        plt.xticks([]) #removes numbered labels on x-axis\n",
    "        plt.yticks([]) "
   ]
  },
  {
   "cell_type": "code",
   "execution_count": 11,
   "metadata": {
    "executionInfo": {
     "elapsed": 41,
     "status": "aborted",
     "timestamp": 1671683749863,
     "user": {
      "displayName": "Minor Project",
      "userId": "02213789744950633610"
     },
     "user_tz": -330
    },
    "id": "wEW8HdYj255c",
    "scrolled": true
   },
   "outputs": [
    {
     "name": "stdout",
     "output_type": "stream",
     "text": [
      "<class 'numpy.ndarray'>\n",
      "<class 'numpy.ndarray'>\n",
      "<class 'numpy.ndarray'>\n",
      "<class 'numpy.ndarray'>\n",
      "<class 'numpy.ndarray'>\n",
      "<class 'numpy.ndarray'>\n",
      "<class 'numpy.ndarray'>\n",
      "<class 'numpy.ndarray'>\n",
      "<class 'numpy.ndarray'>\n",
      "<class 'numpy.ndarray'>\n",
      "<class 'numpy.ndarray'>\n",
      "<class 'numpy.ndarray'>\n",
      "<class 'numpy.ndarray'>\n",
      "<class 'numpy.ndarray'>\n",
      "<class 'numpy.ndarray'>\n",
      "<class 'numpy.ndarray'>\n",
      "<class 'numpy.ndarray'>\n",
      "<class 'numpy.ndarray'>\n",
      "<class 'numpy.ndarray'>\n",
      "<class 'numpy.ndarray'>\n",
      "<class 'numpy.ndarray'>\n",
      "<class 'numpy.ndarray'>\n",
      "<class 'numpy.ndarray'>\n",
      "<class 'numpy.ndarray'>\n",
      "<class 'numpy.ndarray'>\n",
      "<class 'numpy.ndarray'>\n",
      "<class 'numpy.ndarray'>\n",
      "<class 'numpy.ndarray'>\n",
      "<class 'numpy.ndarray'>\n",
      "<class 'numpy.ndarray'>\n",
      "<class 'numpy.ndarray'>\n",
      "<class 'numpy.ndarray'>\n",
      "<class 'numpy.ndarray'>\n",
      "<class 'numpy.ndarray'>\n"
     ]
    },
    {
     "data": {
      "image/png": "[encoded data removed]",
      "text/plain": [
       "<Figure size 640x480 with 17 Axes>"
      ]
     },
     "metadata": {},
     "output_type": "display_data"
    },
    {
     "data": {
      "image/png": "[encoded data removed]",
      "text/plain": [
       "<Figure size 640x480 with 17 Axes>"
      ]
     },
     "metadata": {},
     "output_type": "display_data"
    }
   ],
   "source": [
    "show_images(17)"
   ]
  },
  {
   "cell_type": "code",
   "execution_count": 12,
   "metadata": {
    "executionInfo": {
     "elapsed": 43,
     "status": "aborted",
     "timestamp": 1671683749865,
     "user": {
      "displayName": "Minor Project",
      "userId": "02213789744950633610"
     },
     "user_tz": -330
    },
    "id": "hKRx5J4k255c"
   },
   "outputs": [
    {
     "data": {
      "text/plain": [
       "array([0, 1], dtype=int64)"
      ]
     },
     "execution_count": 12,
     "metadata": {},
     "output_type": "execute_result"
    },
    {
     "data": {
      "text/plain": [
       "array([0, 1], dtype=int64)"
      ]
     },
     "execution_count": 12,
     "metadata": {},
     "output_type": "execute_result"
    }
   ],
   "source": [
    "y.unique()"
   ]
  },
  {
   "cell_type": "code",
   "execution_count": 13,
   "metadata": {
    "executionInfo": {
     "elapsed": 44,
     "status": "aborted",
     "timestamp": 1671683749866,
     "user": {
      "displayName": "Minor Project",
      "userId": "02213789744950633610"
     },
     "user_tz": -330
    },
    "id": "Cjn1y7m2255c"
   },
   "outputs": [
    {
     "data": {
      "image/png": "[encoded data removed]",
      "text/plain": [
       "<Figure size 640x480 with 15 Axes>"
      ]
     },
     "metadata": {},
     "output_type": "display_data"
    },
    {
     "data": {
      "image/png": "[encoded data removed]",
      "text/plain": [
       "<Figure size 640x480 with 15 Axes>"
      ]
     },
     "metadata": {},
     "output_type": "display_data"
    }
   ],
   "source": [
    "#def show_images by digit(digit):\n",
    "digit=1\n",
    "if digit in list(range(10)):\n",
    "    indices=np.where(y==digit)#extract indecies where y==1\n",
    "    for d in range(0,15):\n",
    "        plt.subplot(5,10,d+1)\n",
    "        data=x.iloc[indices[0][d]].values.reshape(17,1)\n",
    "        plt.imshow(data)\n",
    "        plt.xticks([])\n",
    "        plt.yticks([])\n",
    "else:\n",
    "    print(\"number doesn't exist\")"
   ]
  },
  {
   "cell_type": "code",
   "execution_count": 14,
   "metadata": {
    "executionInfo": {
     "elapsed": 45,
     "status": "aborted",
     "timestamp": 1671683749867,
     "user": {
      "displayName": "Minor Project",
      "userId": "02213789744950633610"
     },
     "user_tz": -330
    },
    "id": "39ShkjHv255c",
    "scrolled": false
   },
   "outputs": [
    {
     "name": "stdout",
     "output_type": "stream",
     "text": [
      "[[111   0]\n",
      " [  3  14]]\n",
      "AxesSubplot(0.125,0.11;0.62x0.77)\n",
      "0.9765625\n",
      "[[111   0]\n",
      " [  3  14]]\n",
      "AxesSubplot(0.125,0.11;0.62x0.77)\n",
      "0.9765625\n"
     ]
    },
    {
     "data": {
      "text/plain": [
       "0.9765625"
      ]
     },
     "execution_count": 14,
     "metadata": {},
     "output_type": "execute_result"
    },
    {
     "data": {
      "text/plain": [
       "0.9765625"
      ]
     },
     "execution_count": 14,
     "metadata": {},
     "output_type": "execute_result"
    },
    {
     "data": {
      "image/png": "[encoded data removed]",
      "text/plain": [
       "<Figure size 640x480 with 2 Axes>"
      ]
     },
     "metadata": {},
     "output_type": "display_data"
    },
    {
     "data": {
      "image/png": "[encoded data removed]",
      "text/plain": [
       "<Figure size 640x480 with 2 Axes>"
      ]
     },
     "metadata": {},
     "output_type": "display_data"
    }
   ],
   "source": [
    "def fit_random_forest_classifier_with_plot(X, y):\n",
    "\n",
    "    #First let's create training and testing data\n",
    "    X_train, X_test, y_train, y_test = train_test_split(X, y, test_size=0.33, random_state=42)\n",
    "\n",
    "    #We could grid search and tune, but let's just fit a simple model to see how it does\n",
    "    #instantiate\n",
    "    clf = RandomForestClassifier(n_estimators=100, max_depth=None)\n",
    "\n",
    "    #fit\n",
    "    clf.fit(X_train, y_train)\n",
    "\n",
    "    #predict\n",
    "    y_preds = clf.predict(X_test)\n",
    "\n",
    "    #score\n",
    "    mat = confusion_matrix(y_test, y_preds)\n",
    "    print(mat)\n",
    "    print(sns.heatmap(mat, annot=True, cmap='bwr', linewidths=.5))\n",
    "    acc = accuracy_score(y_test, y_preds)\n",
    "    print(acc)\n",
    "    return acc\n",
    "    \n",
    "fit_random_forest_classifier_with_plot(x, y)"
   ]
  },
  {
   "cell_type": "markdown",
   "metadata": {
    "id": "7eDonqIi255e"
   },
   "source": [
    "## Try Random Projection"
   ]
  },
  {
   "cell_type": "code",
   "execution_count": 15,
   "metadata": {
    "executionInfo": {
     "elapsed": 46,
     "status": "aborted",
     "timestamp": 1671683749869,
     "user": {
      "displayName": "Minor Project",
      "userId": "02213789744950633610"
     },
     "user_tz": -330
    },
    "id": "Ltyak0p-255e"
   },
   "outputs": [],
   "source": [
    "from sklearn.random_projection import GaussianRandomProjection,SparseRandomProjection"
   ]
  },
  {
   "cell_type": "code",
   "execution_count": 16,
   "metadata": {
    "executionInfo": {
     "elapsed": 47,
     "status": "aborted",
     "timestamp": 1671683749870,
     "user": {
      "displayName": "Minor Project",
      "userId": "02213789744950633610"
     },
     "user_tz": -330
    },
    "id": "G5E9HGj8255f"
   },
   "outputs": [],
   "source": [
    "rp=SparseRandomProjection(n_components=15,eps=0.5)#n_components='auto' or eps=''"
   ]
  },
  {
   "cell_type": "code",
   "execution_count": 17,
   "metadata": {
    "executionInfo": {
     "elapsed": 49,
     "status": "aborted",
     "timestamp": 1671683749872,
     "user": {
      "displayName": "Minor Project",
      "userId": "02213789744950633610"
     },
     "user_tz": -330
    },
    "id": "P6PsTN8n255f"
   },
   "outputs": [],
   "source": [
    "x_rp=rp.fit_transform(x)"
   ]
  },
  {
   "cell_type": "code",
   "execution_count": 18,
   "metadata": {
    "executionInfo": {
     "elapsed": 50,
     "status": "aborted",
     "timestamp": 1671683749873,
     "user": {
      "displayName": "Minor Project",
      "userId": "02213789744950633610"
     },
     "user_tz": -330
    },
    "id": "8eTnXmE0255f"
   },
   "outputs": [
    {
     "data": {
      "text/html": [
       "<div>\n",
       "<style scoped>\n",
       "    .dataframe tbody tr th:only-of-type {\n",
       "        vertical-align: middle;\n",
       "    }\n",
       "\n",
       "    .dataframe tbody tr th {\n",
       "        vertical-align: top;\n",
       "    }\n",
       "\n",
       "    .dataframe thead th {\n",
       "        text-align: right;\n",
       "    }\n",
       "</style>\n",
       "<table border=\"1\" class=\"dataframe\">\n",
       "  <thead>\n",
       "    <tr style=\"text-align: right;\">\n",
       "      <th></th>\n",
       "      <th>SUV</th>\n",
       "      <th>Wagon</th>\n",
       "      <th>Minivan</th>\n",
       "      <th>Pickup</th>\n",
       "      <th>AWD</th>\n",
       "      <th>RWD</th>\n",
       "      <th>Retail</th>\n",
       "      <th>Dealer</th>\n",
       "      <th>Engine</th>\n",
       "      <th>Cylinders</th>\n",
       "      <th>Horsepower</th>\n",
       "      <th>CityMPG</th>\n",
       "      <th>HighwayMPG</th>\n",
       "      <th>Weight</th>\n",
       "      <th>Wheelbase</th>\n",
       "      <th>Length</th>\n",
       "      <th>Width</th>\n",
       "    </tr>\n",
       "  </thead>\n",
       "  <tbody>\n",
       "    <tr>\n",
       "      <th>Acura 3.5 RL</th>\n",
       "      <td>0</td>\n",
       "      <td>0</td>\n",
       "      <td>0</td>\n",
       "      <td>0</td>\n",
       "      <td>0</td>\n",
       "      <td>0</td>\n",
       "      <td>43755</td>\n",
       "      <td>39014</td>\n",
       "      <td>3.5</td>\n",
       "      <td>6</td>\n",
       "      <td>225</td>\n",
       "      <td>18</td>\n",
       "      <td>24</td>\n",
       "      <td>3880</td>\n",
       "      <td>115</td>\n",
       "      <td>197</td>\n",
       "      <td>72</td>\n",
       "    </tr>\n",
       "    <tr>\n",
       "      <th>Acura 3.5 RL Navigation</th>\n",
       "      <td>0</td>\n",
       "      <td>0</td>\n",
       "      <td>0</td>\n",
       "      <td>0</td>\n",
       "      <td>0</td>\n",
       "      <td>0</td>\n",
       "      <td>46100</td>\n",
       "      <td>41100</td>\n",
       "      <td>3.5</td>\n",
       "      <td>6</td>\n",
       "      <td>225</td>\n",
       "      <td>18</td>\n",
       "      <td>24</td>\n",
       "      <td>3893</td>\n",
       "      <td>115</td>\n",
       "      <td>197</td>\n",
       "      <td>72</td>\n",
       "    </tr>\n",
       "    <tr>\n",
       "      <th>Acura MDX</th>\n",
       "      <td>1</td>\n",
       "      <td>0</td>\n",
       "      <td>0</td>\n",
       "      <td>0</td>\n",
       "      <td>1</td>\n",
       "      <td>0</td>\n",
       "      <td>36945</td>\n",
       "      <td>33337</td>\n",
       "      <td>3.5</td>\n",
       "      <td>6</td>\n",
       "      <td>265</td>\n",
       "      <td>17</td>\n",
       "      <td>23</td>\n",
       "      <td>4451</td>\n",
       "      <td>106</td>\n",
       "      <td>189</td>\n",
       "      <td>77</td>\n",
       "    </tr>\n",
       "    <tr>\n",
       "      <th>Acura NSX S</th>\n",
       "      <td>0</td>\n",
       "      <td>0</td>\n",
       "      <td>0</td>\n",
       "      <td>0</td>\n",
       "      <td>0</td>\n",
       "      <td>1</td>\n",
       "      <td>89765</td>\n",
       "      <td>79978</td>\n",
       "      <td>3.2</td>\n",
       "      <td>6</td>\n",
       "      <td>290</td>\n",
       "      <td>17</td>\n",
       "      <td>24</td>\n",
       "      <td>3153</td>\n",
       "      <td>100</td>\n",
       "      <td>174</td>\n",
       "      <td>71</td>\n",
       "    </tr>\n",
       "    <tr>\n",
       "      <th>Acura RSX</th>\n",
       "      <td>0</td>\n",
       "      <td>0</td>\n",
       "      <td>0</td>\n",
       "      <td>0</td>\n",
       "      <td>0</td>\n",
       "      <td>0</td>\n",
       "      <td>23820</td>\n",
       "      <td>21761</td>\n",
       "      <td>2.0</td>\n",
       "      <td>4</td>\n",
       "      <td>200</td>\n",
       "      <td>24</td>\n",
       "      <td>31</td>\n",
       "      <td>2778</td>\n",
       "      <td>101</td>\n",
       "      <td>172</td>\n",
       "      <td>68</td>\n",
       "    </tr>\n",
       "    <tr>\n",
       "      <th>...</th>\n",
       "      <td>...</td>\n",
       "      <td>...</td>\n",
       "      <td>...</td>\n",
       "      <td>...</td>\n",
       "      <td>...</td>\n",
       "      <td>...</td>\n",
       "      <td>...</td>\n",
       "      <td>...</td>\n",
       "      <td>...</td>\n",
       "      <td>...</td>\n",
       "      <td>...</td>\n",
       "      <td>...</td>\n",
       "      <td>...</td>\n",
       "      <td>...</td>\n",
       "      <td>...</td>\n",
       "      <td>...</td>\n",
       "      <td>...</td>\n",
       "    </tr>\n",
       "    <tr>\n",
       "      <th>Volvo S80 2.9</th>\n",
       "      <td>0</td>\n",
       "      <td>0</td>\n",
       "      <td>0</td>\n",
       "      <td>0</td>\n",
       "      <td>0</td>\n",
       "      <td>0</td>\n",
       "      <td>37730</td>\n",
       "      <td>35542</td>\n",
       "      <td>2.9</td>\n",
       "      <td>6</td>\n",
       "      <td>208</td>\n",
       "      <td>20</td>\n",
       "      <td>28</td>\n",
       "      <td>3576</td>\n",
       "      <td>110</td>\n",
       "      <td>190</td>\n",
       "      <td>72</td>\n",
       "    </tr>\n",
       "    <tr>\n",
       "      <th>Volvo S80 T6</th>\n",
       "      <td>0</td>\n",
       "      <td>0</td>\n",
       "      <td>0</td>\n",
       "      <td>0</td>\n",
       "      <td>0</td>\n",
       "      <td>0</td>\n",
       "      <td>45210</td>\n",
       "      <td>42573</td>\n",
       "      <td>2.9</td>\n",
       "      <td>6</td>\n",
       "      <td>268</td>\n",
       "      <td>19</td>\n",
       "      <td>26</td>\n",
       "      <td>3653</td>\n",
       "      <td>110</td>\n",
       "      <td>190</td>\n",
       "      <td>72</td>\n",
       "    </tr>\n",
       "    <tr>\n",
       "      <th>Volvo V40</th>\n",
       "      <td>0</td>\n",
       "      <td>1</td>\n",
       "      <td>0</td>\n",
       "      <td>0</td>\n",
       "      <td>0</td>\n",
       "      <td>0</td>\n",
       "      <td>26135</td>\n",
       "      <td>24641</td>\n",
       "      <td>1.9</td>\n",
       "      <td>4</td>\n",
       "      <td>170</td>\n",
       "      <td>22</td>\n",
       "      <td>29</td>\n",
       "      <td>2822</td>\n",
       "      <td>101</td>\n",
       "      <td>180</td>\n",
       "      <td>68</td>\n",
       "    </tr>\n",
       "    <tr>\n",
       "      <th>Volvo XC70</th>\n",
       "      <td>0</td>\n",
       "      <td>1</td>\n",
       "      <td>0</td>\n",
       "      <td>0</td>\n",
       "      <td>1</td>\n",
       "      <td>0</td>\n",
       "      <td>35145</td>\n",
       "      <td>33112</td>\n",
       "      <td>2.5</td>\n",
       "      <td>5</td>\n",
       "      <td>208</td>\n",
       "      <td>20</td>\n",
       "      <td>27</td>\n",
       "      <td>3823</td>\n",
       "      <td>109</td>\n",
       "      <td>186</td>\n",
       "      <td>73</td>\n",
       "    </tr>\n",
       "    <tr>\n",
       "      <th>Volvo XC90 T6</th>\n",
       "      <td>1</td>\n",
       "      <td>0</td>\n",
       "      <td>0</td>\n",
       "      <td>0</td>\n",
       "      <td>1</td>\n",
       "      <td>0</td>\n",
       "      <td>41250</td>\n",
       "      <td>38851</td>\n",
       "      <td>2.9</td>\n",
       "      <td>6</td>\n",
       "      <td>268</td>\n",
       "      <td>15</td>\n",
       "      <td>20</td>\n",
       "      <td>4638</td>\n",
       "      <td>113</td>\n",
       "      <td>189</td>\n",
       "      <td>75</td>\n",
       "    </tr>\n",
       "  </tbody>\n",
       "</table>\n",
       "<p>387 rows × 17 columns</p>\n",
       "</div>"
      ],
      "text/plain": [
       "                         SUV  Wagon  Minivan  Pickup  AWD  RWD  Retail  \\\n",
       "Acura 3.5 RL               0      0        0       0    0    0   43755   \n",
       "Acura 3.5 RL Navigation    0      0        0       0    0    0   46100   \n",
       "Acura MDX                  1      0        0       0    1    0   36945   \n",
       "Acura NSX S                0      0        0       0    0    1   89765   \n",
       "Acura RSX                  0      0        0       0    0    0   23820   \n",
       "...                      ...    ...      ...     ...  ...  ...     ...   \n",
       "Volvo S80 2.9              0      0        0       0    0    0   37730   \n",
       "Volvo S80 T6               0      0        0       0    0    0   45210   \n",
       "Volvo V40                  0      1        0       0    0    0   26135   \n",
       "Volvo XC70                 0      1        0       0    1    0   35145   \n",
       "Volvo XC90 T6              1      0        0       0    1    0   41250   \n",
       "\n",
       "                         Dealer  Engine  Cylinders  Horsepower  CityMPG  \\\n",
       "Acura 3.5 RL              39014     3.5          6         225       18   \n",
       "Acura 3.5 RL Navigation   41100     3.5          6         225       18   \n",
       "Acura MDX                 33337     3.5          6         265       17   \n",
       "Acura NSX S               79978     3.2          6         290       17   \n",
       "Acura RSX                 21761     2.0          4         200       24   \n",
       "...                         ...     ...        ...         ...      ...   \n",
       "Volvo S80 2.9             35542     2.9          6         208       20   \n",
       "Volvo S80 T6              42573     2.9          6         268       19   \n",
       "Volvo V40                 24641     1.9          4         170       22   \n",
       "Volvo XC70                33112     2.5          5         208       20   \n",
       "Volvo XC90 T6             38851     2.9          6         268       15   \n",
       "\n",
       "                         HighwayMPG  Weight  Wheelbase  Length  Width  \n",
       "Acura 3.5 RL                     24    3880        115     197     72  \n",
       "Acura 3.5 RL Navigation          24    3893        115     197     72  \n",
       "Acura MDX                        23    4451        106     189     77  \n",
       "Acura NSX S                      24    3153        100     174     71  \n",
       "Acura RSX                        31    2778        101     172     68  \n",
       "...                             ...     ...        ...     ...    ...  \n",
       "Volvo S80 2.9                    28    3576        110     190     72  \n",
       "Volvo S80 T6                     26    3653        110     190     72  \n",
       "Volvo V40                        29    2822        101     180     68  \n",
       "Volvo XC70                       27    3823        109     186     73  \n",
       "Volvo XC90 T6                    20    4638        113     189     75  \n",
       "\n",
       "[387 rows x 17 columns]"
      ]
     },
     "execution_count": 18,
     "metadata": {},
     "output_type": "execute_result"
    },
    {
     "data": {
      "text/html": [
       "<div>\n",
       "<style scoped>\n",
       "    .dataframe tbody tr th:only-of-type {\n",
       "        vertical-align: middle;\n",
       "    }\n",
       "\n",
       "    .dataframe tbody tr th {\n",
       "        vertical-align: top;\n",
       "    }\n",
       "\n",
       "    .dataframe thead th {\n",
       "        text-align: right;\n",
       "    }\n",
       "</style>\n",
       "<table border=\"1\" class=\"dataframe\">\n",
       "  <thead>\n",
       "    <tr style=\"text-align: right;\">\n",
       "      <th></th>\n",
       "      <th>SUV</th>\n",
       "      <th>Wagon</th>\n",
       "      <th>Minivan</th>\n",
       "      <th>Pickup</th>\n",
       "      <th>AWD</th>\n",
       "      <th>RWD</th>\n",
       "      <th>Retail</th>\n",
       "      <th>Dealer</th>\n",
       "      <th>Engine</th>\n",
       "      <th>Cylinders</th>\n",
       "      <th>Horsepower</th>\n",
       "      <th>CityMPG</th>\n",
       "      <th>HighwayMPG</th>\n",
       "      <th>Weight</th>\n",
       "      <th>Wheelbase</th>\n",
       "      <th>Length</th>\n",
       "      <th>Width</th>\n",
       "    </tr>\n",
       "  </thead>\n",
       "  <tbody>\n",
       "    <tr>\n",
       "      <th>Acura 3.5 RL</th>\n",
       "      <td>0</td>\n",
       "      <td>0</td>\n",
       "      <td>0</td>\n",
       "      <td>0</td>\n",
       "      <td>0</td>\n",
       "      <td>0</td>\n",
       "      <td>43755</td>\n",
       "      <td>39014</td>\n",
       "      <td>3.5</td>\n",
       "      <td>6</td>\n",
       "      <td>225</td>\n",
       "      <td>18</td>\n",
       "      <td>24</td>\n",
       "      <td>3880</td>\n",
       "      <td>115</td>\n",
       "      <td>197</td>\n",
       "      <td>72</td>\n",
       "    </tr>\n",
       "    <tr>\n",
       "      <th>Acura 3.5 RL Navigation</th>\n",
       "      <td>0</td>\n",
       "      <td>0</td>\n",
       "      <td>0</td>\n",
       "      <td>0</td>\n",
       "      <td>0</td>\n",
       "      <td>0</td>\n",
       "      <td>46100</td>\n",
       "      <td>41100</td>\n",
       "      <td>3.5</td>\n",
       "      <td>6</td>\n",
       "      <td>225</td>\n",
       "      <td>18</td>\n",
       "      <td>24</td>\n",
       "      <td>3893</td>\n",
       "      <td>115</td>\n",
       "      <td>197</td>\n",
       "      <td>72</td>\n",
       "    </tr>\n",
       "    <tr>\n",
       "      <th>Acura MDX</th>\n",
       "      <td>1</td>\n",
       "      <td>0</td>\n",
       "      <td>0</td>\n",
       "      <td>0</td>\n",
       "      <td>1</td>\n",
       "      <td>0</td>\n",
       "      <td>36945</td>\n",
       "      <td>33337</td>\n",
       "      <td>3.5</td>\n",
       "      <td>6</td>\n",
       "      <td>265</td>\n",
       "      <td>17</td>\n",
       "      <td>23</td>\n",
       "      <td>4451</td>\n",
       "      <td>106</td>\n",
       "      <td>189</td>\n",
       "      <td>77</td>\n",
       "    </tr>\n",
       "    <tr>\n",
       "      <th>Acura NSX S</th>\n",
       "      <td>0</td>\n",
       "      <td>0</td>\n",
       "      <td>0</td>\n",
       "      <td>0</td>\n",
       "      <td>0</td>\n",
       "      <td>1</td>\n",
       "      <td>89765</td>\n",
       "      <td>79978</td>\n",
       "      <td>3.2</td>\n",
       "      <td>6</td>\n",
       "      <td>290</td>\n",
       "      <td>17</td>\n",
       "      <td>24</td>\n",
       "      <td>3153</td>\n",
       "      <td>100</td>\n",
       "      <td>174</td>\n",
       "      <td>71</td>\n",
       "    </tr>\n",
       "    <tr>\n",
       "      <th>Acura RSX</th>\n",
       "      <td>0</td>\n",
       "      <td>0</td>\n",
       "      <td>0</td>\n",
       "      <td>0</td>\n",
       "      <td>0</td>\n",
       "      <td>0</td>\n",
       "      <td>23820</td>\n",
       "      <td>21761</td>\n",
       "      <td>2.0</td>\n",
       "      <td>4</td>\n",
       "      <td>200</td>\n",
       "      <td>24</td>\n",
       "      <td>31</td>\n",
       "      <td>2778</td>\n",
       "      <td>101</td>\n",
       "      <td>172</td>\n",
       "      <td>68</td>\n",
       "    </tr>\n",
       "    <tr>\n",
       "      <th>...</th>\n",
       "      <td>...</td>\n",
       "      <td>...</td>\n",
       "      <td>...</td>\n",
       "      <td>...</td>\n",
       "      <td>...</td>\n",
       "      <td>...</td>\n",
       "      <td>...</td>\n",
       "      <td>...</td>\n",
       "      <td>...</td>\n",
       "      <td>...</td>\n",
       "      <td>...</td>\n",
       "      <td>...</td>\n",
       "      <td>...</td>\n",
       "      <td>...</td>\n",
       "      <td>...</td>\n",
       "      <td>...</td>\n",
       "      <td>...</td>\n",
       "    </tr>\n",
       "    <tr>\n",
       "      <th>Volvo S80 2.9</th>\n",
       "      <td>0</td>\n",
       "      <td>0</td>\n",
       "      <td>0</td>\n",
       "      <td>0</td>\n",
       "      <td>0</td>\n",
       "      <td>0</td>\n",
       "      <td>37730</td>\n",
       "      <td>35542</td>\n",
       "      <td>2.9</td>\n",
       "      <td>6</td>\n",
       "      <td>208</td>\n",
       "      <td>20</td>\n",
       "      <td>28</td>\n",
       "      <td>3576</td>\n",
       "      <td>110</td>\n",
       "      <td>190</td>\n",
       "      <td>72</td>\n",
       "    </tr>\n",
       "    <tr>\n",
       "      <th>Volvo S80 T6</th>\n",
       "      <td>0</td>\n",
       "      <td>0</td>\n",
       "      <td>0</td>\n",
       "      <td>0</td>\n",
       "      <td>0</td>\n",
       "      <td>0</td>\n",
       "      <td>45210</td>\n",
       "      <td>42573</td>\n",
       "      <td>2.9</td>\n",
       "      <td>6</td>\n",
       "      <td>268</td>\n",
       "      <td>19</td>\n",
       "      <td>26</td>\n",
       "      <td>3653</td>\n",
       "      <td>110</td>\n",
       "      <td>190</td>\n",
       "      <td>72</td>\n",
       "    </tr>\n",
       "    <tr>\n",
       "      <th>Volvo V40</th>\n",
       "      <td>0</td>\n",
       "      <td>1</td>\n",
       "      <td>0</td>\n",
       "      <td>0</td>\n",
       "      <td>0</td>\n",
       "      <td>0</td>\n",
       "      <td>26135</td>\n",
       "      <td>24641</td>\n",
       "      <td>1.9</td>\n",
       "      <td>4</td>\n",
       "      <td>170</td>\n",
       "      <td>22</td>\n",
       "      <td>29</td>\n",
       "      <td>2822</td>\n",
       "      <td>101</td>\n",
       "      <td>180</td>\n",
       "      <td>68</td>\n",
       "    </tr>\n",
       "    <tr>\n",
       "      <th>Volvo XC70</th>\n",
       "      <td>0</td>\n",
       "      <td>1</td>\n",
       "      <td>0</td>\n",
       "      <td>0</td>\n",
       "      <td>1</td>\n",
       "      <td>0</td>\n",
       "      <td>35145</td>\n",
       "      <td>33112</td>\n",
       "      <td>2.5</td>\n",
       "      <td>5</td>\n",
       "      <td>208</td>\n",
       "      <td>20</td>\n",
       "      <td>27</td>\n",
       "      <td>3823</td>\n",
       "      <td>109</td>\n",
       "      <td>186</td>\n",
       "      <td>73</td>\n",
       "    </tr>\n",
       "    <tr>\n",
       "      <th>Volvo XC90 T6</th>\n",
       "      <td>1</td>\n",
       "      <td>0</td>\n",
       "      <td>0</td>\n",
       "      <td>0</td>\n",
       "      <td>1</td>\n",
       "      <td>0</td>\n",
       "      <td>41250</td>\n",
       "      <td>38851</td>\n",
       "      <td>2.9</td>\n",
       "      <td>6</td>\n",
       "      <td>268</td>\n",
       "      <td>15</td>\n",
       "      <td>20</td>\n",
       "      <td>4638</td>\n",
       "      <td>113</td>\n",
       "      <td>189</td>\n",
       "      <td>75</td>\n",
       "    </tr>\n",
       "  </tbody>\n",
       "</table>\n",
       "<p>387 rows × 17 columns</p>\n",
       "</div>"
      ],
      "text/plain": [
       "                         SUV  Wagon  Minivan  Pickup  AWD  RWD  Retail  \\\n",
       "Acura 3.5 RL               0      0        0       0    0    0   43755   \n",
       "Acura 3.5 RL Navigation    0      0        0       0    0    0   46100   \n",
       "Acura MDX                  1      0        0       0    1    0   36945   \n",
       "Acura NSX S                0      0        0       0    0    1   89765   \n",
       "Acura RSX                  0      0        0       0    0    0   23820   \n",
       "...                      ...    ...      ...     ...  ...  ...     ...   \n",
       "Volvo S80 2.9              0      0        0       0    0    0   37730   \n",
       "Volvo S80 T6               0      0        0       0    0    0   45210   \n",
       "Volvo V40                  0      1        0       0    0    0   26135   \n",
       "Volvo XC70                 0      1        0       0    1    0   35145   \n",
       "Volvo XC90 T6              1      0        0       0    1    0   41250   \n",
       "\n",
       "                         Dealer  Engine  Cylinders  Horsepower  CityMPG  \\\n",
       "Acura 3.5 RL              39014     3.5          6         225       18   \n",
       "Acura 3.5 RL Navigation   41100     3.5          6         225       18   \n",
       "Acura MDX                 33337     3.5          6         265       17   \n",
       "Acura NSX S               79978     3.2          6         290       17   \n",
       "Acura RSX                 21761     2.0          4         200       24   \n",
       "...                         ...     ...        ...         ...      ...   \n",
       "Volvo S80 2.9             35542     2.9          6         208       20   \n",
       "Volvo S80 T6              42573     2.9          6         268       19   \n",
       "Volvo V40                 24641     1.9          4         170       22   \n",
       "Volvo XC70                33112     2.5          5         208       20   \n",
       "Volvo XC90 T6             38851     2.9          6         268       15   \n",
       "\n",
       "                         HighwayMPG  Weight  Wheelbase  Length  Width  \n",
       "Acura 3.5 RL                     24    3880        115     197     72  \n",
       "Acura 3.5 RL Navigation          24    3893        115     197     72  \n",
       "Acura MDX                        23    4451        106     189     77  \n",
       "Acura NSX S                      24    3153        100     174     71  \n",
       "Acura RSX                        31    2778        101     172     68  \n",
       "...                             ...     ...        ...     ...    ...  \n",
       "Volvo S80 2.9                    28    3576        110     190     72  \n",
       "Volvo S80 T6                     26    3653        110     190     72  \n",
       "Volvo V40                        29    2822        101     180     68  \n",
       "Volvo XC70                       27    3823        109     186     73  \n",
       "Volvo XC90 T6                    20    4638        113     189     75  \n",
       "\n",
       "[387 rows x 17 columns]"
      ]
     },
     "execution_count": 18,
     "metadata": {},
     "output_type": "execute_result"
    }
   ],
   "source": [
    "x"
   ]
  },
  {
   "cell_type": "code",
   "execution_count": 19,
   "metadata": {
    "executionInfo": {
     "elapsed": 51,
     "status": "aborted",
     "timestamp": 1671683749874,
     "user": {
      "displayName": "Minor Project",
      "userId": "02213789744950633610"
     },
     "user_tz": -330
    },
    "id": "rZ6rbos-255f"
   },
   "outputs": [
    {
     "data": {
      "text/plain": [
       "(387, 15)"
      ]
     },
     "execution_count": 19,
     "metadata": {},
     "output_type": "execute_result"
    },
    {
     "data": {
      "text/plain": [
       "(387, 15)"
      ]
     },
     "execution_count": 19,
     "metadata": {},
     "output_type": "execute_result"
    }
   ],
   "source": [
    "x_rp.shape"
   ]
  },
  {
   "cell_type": "code",
   "execution_count": 20,
   "metadata": {
    "executionInfo": {
     "elapsed": 51,
     "status": "aborted",
     "timestamp": 1671683749874,
     "user": {
      "displayName": "Minor Project",
      "userId": "02213789744950633610"
     },
     "user_tz": -330
    },
    "id": "2Rpzz3Ps255f"
   },
   "outputs": [
    {
     "name": "stdout",
     "output_type": "stream",
     "text": [
      "[[111   0]\n",
      " [  5  12]]\n",
      "AxesSubplot(0.125,0.11;0.62x0.77)\n",
      "0.9609375\n",
      "[[111   0]\n",
      " [  5  12]]\n",
      "AxesSubplot(0.125,0.11;0.62x0.77)\n",
      "0.9609375\n"
     ]
    },
    {
     "data": {
      "text/plain": [
       "0.9609375"
      ]
     },
     "execution_count": 20,
     "metadata": {},
     "output_type": "execute_result"
    },
    {
     "data": {
      "text/plain": [
       "0.9609375"
      ]
     },
     "execution_count": 20,
     "metadata": {},
     "output_type": "execute_result"
    },
    {
     "data": {
      "image/png": "[encoded data removed]",
      "text/plain": [
       "<Figure size 640x480 with 2 Axes>"
      ]
     },
     "metadata": {},
     "output_type": "display_data"
    },
    {
     "data": {
      "image/png": "[encoded data removed]",
      "text/plain": [
       "<Figure size 640x480 with 2 Axes>"
      ]
     },
     "metadata": {},
     "output_type": "display_data"
    }
   ],
   "source": [
    "fit_random_forest_classifier_with_plot(x_rp, y)"
   ]
  },
  {
   "cell_type": "markdown",
   "metadata": {
    "id": "h9smgC2x255f"
   },
   "source": [
    "## try different values of Epsilon\n"
   ]
  },
  {
   "cell_type": "code",
   "execution_count": 21,
   "metadata": {
    "executionInfo": {
     "elapsed": 52,
     "status": "aborted",
     "timestamp": 1671683749875,
     "user": {
      "displayName": "Minor Project",
      "userId": "02213789744950633610"
     },
     "user_tz": -330
    },
    "id": "mKt7VdyQ255g",
    "scrolled": true
   },
   "outputs": [
    {
     "name": "stdout",
     "output_type": "stream",
     "text": [
      "[[110   1]\n",
      " [  6  11]]\n",
      "AxesSubplot(0.125,0.11;0.62x0.77)\n",
      "0.9453125\n",
      "With epsilon = 0.50, the transformed data has 15 components, a random forest acheived an accuracy of 0.9453125.\n",
      "[[110   1]\n",
      " [  4  13]]\n",
      "AxesSubplot(0.125,0.11;0.496x0.77)\n",
      "0.9609375\n",
      "With epsilon = 0.70, the transformed data has 15 components, a random forest acheived an accuracy of 0.9609375.\n",
      "[[110   1]\n",
      " [  6  11]]\n",
      "AxesSubplot(0.125,0.11;0.62x0.77)\n",
      "0.9453125\n",
      "With epsilon = 0.50, the transformed data has 15 components, a random forest acheived an accuracy of 0.9453125.\n",
      "[[110   1]\n",
      " [  4  13]]\n",
      "AxesSubplot(0.125,0.11;0.496x0.77)\n",
      "0.9609375\n",
      "With epsilon = 0.70, the transformed data has 15 components, a random forest acheived an accuracy of 0.9609375.\n",
      "[[111   0]\n",
      " [  4  13]]\n",
      "AxesSubplot(0.125,0.11;0.3968x0.77)\n",
      "0.96875\n",
      "With epsilon = 0.90, the transformed data has 15 components, a random forest acheived an accuracy of 0.96875.\n",
      "[[111   0]\n",
      " [  4  13]]\n",
      "AxesSubplot(0.125,0.11;0.3968x0.77)\n",
      "0.96875\n",
      "With epsilon = 0.90, the transformed data has 15 components, a random forest acheived an accuracy of 0.96875.\n"
     ]
    },
    {
     "data": {
      "image/png": "[encoded data removed]",
      "text/plain": [
       "<Figure size 640x480 with 4 Axes>"
      ]
     },
     "metadata": {},
     "output_type": "display_data"
    },
    {
     "data": {
      "image/png": "[encoded data removed]",
      "text/plain": [
       "<Figure size 640x480 with 4 Axes>"
      ]
     },
     "metadata": {},
     "output_type": "display_data"
    }
   ],
   "source": [
    "for ep in np.arange(0.5,1,0.2):\n",
    "    rp=SparseRandomProjection(n_components=15,eps=0.5)\n",
    "    x_rp=rp.fit_transform(x)\n",
    "    acc=fit_random_forest_classifier_with_plot(x_rp, y)\n",
    "    print(\"With epsilon = {:.2f}, the transformed data has {} components, a random forest acheived an accuracy of {}.\".format(ep, x_rp.shape[1], acc))"
   ]
  },
  {
   "cell_type": "markdown",
   "metadata": {
    "id": "WCx6DTPN255g"
   },
   "source": [
    "It is obvious that the `higher` the value of the `epsilon` the `lower` number of components we get"
   ]
  },
  {
   "cell_type": "code",
   "execution_count": 22,
   "metadata": {
    "executionInfo": {
     "elapsed": 53,
     "status": "aborted",
     "timestamp": 1671683749876,
     "user": {
      "displayName": "Minor Project",
      "userId": "02213789744950633610"
     },
     "user_tz": -330
    },
    "id": "C0aDtK6d255g"
   },
   "outputs": [],
   "source": [
    "from sklearn.random_projection import johnson_lindenstrauss_min_dim"
   ]
  },
  {
   "cell_type": "code",
   "execution_count": 23,
   "metadata": {
    "executionInfo": {
     "elapsed": 53,
     "status": "aborted",
     "timestamp": 1671683749877,
     "user": {
      "displayName": "Minor Project",
      "userId": "02213789744950633610"
     },
     "user_tz": -330
    },
    "id": "Cjtp-n3d255g",
    "scrolled": true
   },
   "outputs": [
    {
     "data": {
      "image/png": "[encoded data removed]",
      "text/plain": [
       "<Figure size 640x480 with 1 Axes>"
      ]
     },
     "metadata": {},
     "output_type": "display_data"
    },
    {
     "data": {
      "image/png": "[encoded data removed]",
      "text/plain": [
       "<Figure size 640x480 with 1 Axes>"
      ]
     },
     "metadata": {},
     "output_type": "display_data"
    }
   ],
   "source": [
    "# Calulate the number of components with varying eps\n",
    "eps=np.arange(0.1,1,0.01)\n",
    "n_comp = johnson_lindenstrauss_min_dim(n_samples=1e6, eps=eps)\n",
    "\n",
    "plt.plot(eps, n_comp, 'bo');\n",
    "plt.xlabel('eps');\n",
    "plt.ylabel('Number of Components');\n",
    "plt.title('Number of Components by eps');"
   ]
  },
  {
   "cell_type": "markdown",
   "metadata": {
    "id": "qZsnGKz1255g"
   },
   "source": [
    "## specifying number of components"
   ]
  },
  {
   "cell_type": "code",
   "execution_count": 24,
   "metadata": {
    "executionInfo": {
     "elapsed": 54,
     "status": "aborted",
     "timestamp": 1671683749878,
     "user": {
      "displayName": "Minor Project",
      "userId": "02213789744950633610"
     },
     "user_tz": -330
    },
    "id": "tJgupifF255h",
    "scrolled": true
   },
   "outputs": [
    {
     "name": "stdout",
     "output_type": "stream",
     "text": [
      "The orignial data has 387 samples with dimension 17.\n",
      "The orignial data has 387 samples with dimension 17.\n"
     ]
    }
   ],
   "source": [
    "x_samples,x_comps=x.shape\n",
    "print(\"The orignial data has {} samples with dimension {}.\".format(x_samples, x_comps))"
   ]
  },
  {
   "cell_type": "code",
   "execution_count": 25,
   "metadata": {
    "executionInfo": {
     "elapsed": 54,
     "status": "aborted",
     "timestamp": 1671683749878,
     "user": {
      "displayName": "Minor Project",
      "userId": "02213789744950633610"
     },
     "user_tz": -330
    },
    "id": "55Zhz_nJ255h"
   },
   "outputs": [
    {
     "name": "stderr",
     "output_type": "stream",
     "text": [
      "C:\\Users\\Abhishek\\AppData\\Local\\Programs\\Python\\Python311\\Lib\\site-packages\\sklearn\\random_projection.py:390: DataDimensionalityWarning: The number of components is higher than the number of features: n_features < n_components (17 < 30).The dimensionality of the problem will not be reduced.\n",
      "  warnings.warn(\n",
      "C:\\Users\\Abhishek\\AppData\\Local\\Programs\\Python\\Python311\\Lib\\site-packages\\sklearn\\random_projection.py:390: DataDimensionalityWarning: The number of components is higher than the number of features: n_features < n_components (17 < 30).The dimensionality of the problem will not be reduced.\n",
      "  warnings.warn(\n"
     ]
    }
   ],
   "source": [
    "n_components = 30\n",
    "\n",
    "rp = SparseRandomProjection(n_components=n_components)\n",
    "x_rp = rp.fit_transform(x)"
   ]
  }
 ],
 "metadata": {
  "colab": {
   "provenance": []
  },
  "kernelspec": {
   "display_name": "Python 3 (ipykernel)",
   "language": "python",
   "name": "python3"
  },
  "language_info": {
   "codemirror_mode": {
    "name": "ipython",
    "version": 3
   },
   "file_extension": ".py",
   "mimetype": "text/x-python",
   "name": "python",
   "nbconvert_exporter": "python",
   "pygments_lexer": "ipython3",
   "version": "3.11.0"
  },
  "vscode": {
   "interpreter": {
    "hash": "297aa87e773fccab3cd832d910b41484c510ca86785f7619d48a7195ca73c521"
   }
  }
 },
 "nbformat": 4,
 "nbformat_minor": 1
}
